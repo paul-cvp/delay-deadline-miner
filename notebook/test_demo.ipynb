{
 "cells": [
  {
   "metadata": {
    "ExecuteTime": {
     "end_time": "2025-08-01T09:03:35.695362Z",
     "start_time": "2025-08-01T09:03:35.680417Z"
    }
   },
   "cell_type": "code",
   "source": [
    "from datetime import datetime\n",
    "%load_ext autoreload\n",
    "%autoreload 2"
   ],
   "id": "263f80b5fb10dad1",
   "outputs": [],
   "execution_count": 1
  },
  {
   "cell_type": "code",
   "id": "initial_id",
   "metadata": {
    "collapsed": true,
    "ExecuteTime": {
     "end_time": "2025-08-01T09:03:36.082610Z",
     "start_time": "2025-08-01T09:03:35.705547Z"
    }
   },
   "source": [
    "import pandas as pd\n",
    "from datetime import timedelta\n",
    "import pm4py\n",
    "from pm4py.algo.discovery.dcr_discover.extenstions.nesting import NestVariants"
   ],
   "outputs": [],
   "execution_count": 2
  },
  {
   "metadata": {},
   "cell_type": "markdown",
   "source": [
    "# Overall idea and selling point\n",
    "Mine time as the minimum delay and maximum deadline.\n",
    "Mine the lifecycle of activities.\n",
    "Mine choices.\n",
    "Create time aware subprocesses by finding patterns:\n",
    "- Self exclude, condition: required to respect timed execution semantics\n",
    "- Conditions and responses between steps in the transition lifecycle for activites: The activity subprocess\n",
    "Abstract away based on subprocesses:\n",
    "- Remove individual choices and mine the step of making a choice: downside, the individual delays/deadlines or consequences of a choice are removed. Only the effect of making a choice is kept.\n",
    "- Remove the lifecycle transition that is not equal to complete: downside, the individual effects of lifecycle transitions are not visible.\n",
    "Merge the abstract log and original log: best of both worlds. see the effect of the subprocess but also the effect of the individual event."
   ],
   "id": "866a566ac6896d4f"
  },
  {
   "metadata": {
    "ExecuteTime": {
     "end_time": "2025-07-31T18:30:31.537755Z",
     "start_time": "2025-07-31T18:30:30.654057Z"
    }
   },
   "cell_type": "code",
   "source": [
    "log_metadata = pd.read_csv('/home/vco/Datasets/Collection_Event_Logs/Metadata.csv')\n",
    "log_metadata.columns = log_metadata.columns.str.replace(r\"[\\s\\t\\n]+\", \"\", regex=True)"
   ],
   "id": "ee27b7c281a631bd",
   "outputs": [],
   "execution_count": 3
  },
  {
   "metadata": {
    "ExecuteTime": {
     "end_time": "2025-07-31T18:30:31.883468Z",
     "start_time": "2025-07-31T18:30:31.844570Z"
    }
   },
   "cell_type": "code",
   "source": "log_metadata",
   "id": "ea55b61a6edabfa2",
   "outputs": [
    {
     "data": {
      "text/plain": [
       "    EventLogID                                       EventLogName  \\\n",
       "0            1                                  AmazonSalesReport   \n",
       "1            2          Artificial Digital Photo Copier Event Log   \n",
       "2            3                                 BPI Challenge 2012   \n",
       "3            4                BPI Challenge 2013, closed problems   \n",
       "4            5                      BPI Challenge 2013, incidents   \n",
       "..         ...                                                ...   \n",
       "93          94  Data-driven Process Discovery - Artificial Eve...   \n",
       "94          95  Data-driven Process Discovery - Artificial Eve...   \n",
       "95          96  Data-driven Process Discovery - Artificial Eve...   \n",
       "96          97  Data-driven Process Discovery - Artificial Eve...   \n",
       "97          98  Data-driven Process Discovery - Artificial Eve...   \n",
       "\n",
       "     EventLogDatasetFileName  EventLogYear DatasetSize DatasetFormat  \\\n",
       "0                        NaN          2024      3.2 MB          .csv   \n",
       "1                        NaN          2012      285 KB          .xes   \n",
       "2                        NaN          2012      3.2 MB          .csv   \n",
       "3                        NaN          2013      190 KB          .xes   \n",
       "4                        NaN          2013    1.299 KB          .xes   \n",
       "..                       ...           ...         ...           ...   \n",
       "93  log-20-percent-noise.xes          2016    5.624 KB          .xes   \n",
       "94  log-25-percent-noise.xes          2016    5.681 KB          .xes   \n",
       "95  log-30-percent-noise.xes          2016    5.693 KB          .xes   \n",
       "96  log-35-percent-noise.xes          2016    6.162 KB          .xes   \n",
       "97  log-40-percent-noise.xes          2016    6.072 KB          .xes   \n",
       "\n",
       "    NumberofCases  NumberofVariants  NumberofEvents  NumberofActivities  ...  \\\n",
       "0        120229.0               100        128976.0                  21  ...   \n",
       "1           100.0                99         37873.0                  68  ...   \n",
       "2         13087.0              4366        262200.0                  36  ...   \n",
       "3          1487.0               327          6600.0                   7  ...   \n",
       "4          7554.0              2278         65533.0                  13  ...   \n",
       "..            ...               ...             ...                 ...  ...   \n",
       "93       100000.0              2562        914556.0                   8  ...   \n",
       "94       100000.0              2793        920071.0                   8  ...   \n",
       "95       100000.0              2946        924239.0                   8  ...   \n",
       "96       100000.0              3116        929432.0                   8  ...   \n",
       "97       100000.0              3282        934135.0                   8  ...   \n",
       "\n",
       "    %CaseCoverage(Top5Variants) MeanDuration(Top5Variants)  \\\n",
       "0                      0.911070                        NaN   \n",
       "1                      0.060000            132 days 1 hour   \n",
       "2                      0.453962          1 hour 26 minutes   \n",
       "3                      0.595831         185 days 1 6 hours   \n",
       "4                      0.378343             7 days 7 hours   \n",
       "..                          ...                        ...   \n",
       "93                     0.205770          1 hour 25 minutes   \n",
       "94                     0.190220          1 hour 25 minutes   \n",
       "95                     0.179090          1 hour 25 minutes   \n",
       "96                     0.168500          1 hour 25 minutes   \n",
       "97                     0.154510          1 hour 25 minutes   \n",
       "\n",
       "                           PotentialPerformanceIssues  \\\n",
       "0                                                 NaN   \n",
       "1                                                 Job   \n",
       "2   W_Nabellen incomplete dossiers-Complete, W_Nab...   \n",
       "3                          Queued- Awaiting Assigment   \n",
       "4         Accepted + Assigned, Accepted + In Progress   \n",
       "..                                                ...   \n",
       "93                                       Check, Visit   \n",
       "94                                     Register,Check   \n",
       "95                                        Check,Visit   \n",
       "96                                        Check,Visit   \n",
       "97                                        Check,Visit   \n",
       "\n",
       "                               PerformanceIssuesNotes  \\\n",
       "0                                                 NaN   \n",
       "1   It takes 51 weeks to be able to complete this ...   \n",
       "2   Potential improvement was chosen at hand max r...   \n",
       "3   The case coverage of the max duration is 34.2 ...   \n",
       "4   For the performance issue it can be noted that...   \n",
       "..                                                ...   \n",
       "93  It should be noted that the potential performa...   \n",
       "94  The activity \"Check\" has the most process dura...   \n",
       "95  Even though Check,Visit only has a duration of...   \n",
       "96  Even though Check,Visit only has a duration of...   \n",
       "97  Even though Check,Visit only has a duration of...   \n",
       "\n",
       "                           ProminentExhibitedBehavior  \\\n",
       "0      Small Spaghetti Clusters with Linear Dominancy   \n",
       "1   Either Sequence and Loop \\r\\n\\r\\nOR Loop and D...   \n",
       "2                                  Spaghetti Behavior   \n",
       "3      Small Spaghetti Clusters with Linear Dominancy   \n",
       "4                                  Spaghetti Behavior   \n",
       "..                                                ...   \n",
       "93     Small Spaghetti Clusters with Linear Dominancy   \n",
       "94     Small Spaghetti Clusters with Linear Dominancy   \n",
       "95     Small Spaghetti Clusters with Linear Dominancy   \n",
       "96     Small Spaghetti Clusters with Linear Dominancy   \n",
       "97     Small Spaghetti Clusters with Linear Dominancy   \n",
       "\n",
       "                                    PrimaryDependency  \\\n",
       "0                Shipped + Shipped, Shipped + Shipped   \n",
       "1                     Drum Spin Stop, Drum Spin Start   \n",
       "2   W_Completeren aanvraag-Complete, W_Completeren...   \n",
       "3              Accepted-In Progress, Completed-Closed   \n",
       "4   Queued + Awaiting Assignment, Accepted + In Pr...   \n",
       "..                                                ...   \n",
       "93                                        Xray, Check   \n",
       "94                                        Xray, Check   \n",
       "95                                        Xray, Check   \n",
       "96                                        Xray, Check   \n",
       "97                                        Xray, Check   \n",
       "\n",
       "   %PrimaryDependencyCaseCoverage NumberofResources  \\\n",
       "0                            3.33                 0   \n",
       "1                           51.00                 1   \n",
       "2                           33.70                69   \n",
       "3                           80.80               585   \n",
       "4                           59.40              1440   \n",
       "..                            ...               ...   \n",
       "93                          70.40                 5   \n",
       "94                          70.40                 5   \n",
       "95                          70.30                 5   \n",
       "96                          70.30                 5   \n",
       "97                          70.50                 5   \n",
       "\n",
       "                                         ResourceType           TypeIndication  \n",
       "0                                                 NaN                      NaN  \n",
       "1                                             Machine                     PRN1  \n",
       "2                                             Numeric               1002, 1005  \n",
       "3                                  Name, Organisation          Ava, Org Line C  \n",
       "4   Name, Organisation, Country of Organisation, C...  Siebel, G97, Sweden, se  \n",
       "..                                                ...                      ...  \n",
       "93                                         Nurse Name    Joe, John, Sue, Alice  \n",
       "94                                         Nurse Name    Joe, John, Sue, Alice  \n",
       "95                                         Nurse Name    Joe, John, Sue, Alice  \n",
       "96                                         Nurse Name    Joe, John, Sue, Alice  \n",
       "97                                         Nurse Name    Joe, John, Sue, Alice  \n",
       "\n",
       "[98 rows x 40 columns]"
      ],
      "text/html": [
       "<div>\n",
       "<style scoped>\n",
       "    .dataframe tbody tr th:only-of-type {\n",
       "        vertical-align: middle;\n",
       "    }\n",
       "\n",
       "    .dataframe tbody tr th {\n",
       "        vertical-align: top;\n",
       "    }\n",
       "\n",
       "    .dataframe thead th {\n",
       "        text-align: right;\n",
       "    }\n",
       "</style>\n",
       "<table border=\"1\" class=\"dataframe\">\n",
       "  <thead>\n",
       "    <tr style=\"text-align: right;\">\n",
       "      <th></th>\n",
       "      <th>EventLogID</th>\n",
       "      <th>EventLogName</th>\n",
       "      <th>EventLogDatasetFileName</th>\n",
       "      <th>EventLogYear</th>\n",
       "      <th>DatasetSize</th>\n",
       "      <th>DatasetFormat</th>\n",
       "      <th>NumberofCases</th>\n",
       "      <th>NumberofVariants</th>\n",
       "      <th>NumberofEvents</th>\n",
       "      <th>NumberofActivities</th>\n",
       "      <th>...</th>\n",
       "      <th>%CaseCoverage(Top5Variants)</th>\n",
       "      <th>MeanDuration(Top5Variants)</th>\n",
       "      <th>PotentialPerformanceIssues</th>\n",
       "      <th>PerformanceIssuesNotes</th>\n",
       "      <th>ProminentExhibitedBehavior</th>\n",
       "      <th>PrimaryDependency</th>\n",
       "      <th>%PrimaryDependencyCaseCoverage</th>\n",
       "      <th>NumberofResources</th>\n",
       "      <th>ResourceType</th>\n",
       "      <th>TypeIndication</th>\n",
       "    </tr>\n",
       "  </thead>\n",
       "  <tbody>\n",
       "    <tr>\n",
       "      <th>0</th>\n",
       "      <td>1</td>\n",
       "      <td>AmazonSalesReport</td>\n",
       "      <td>NaN</td>\n",
       "      <td>2024</td>\n",
       "      <td>3.2 MB</td>\n",
       "      <td>.csv</td>\n",
       "      <td>120229.0</td>\n",
       "      <td>100</td>\n",
       "      <td>128976.0</td>\n",
       "      <td>21</td>\n",
       "      <td>...</td>\n",
       "      <td>0.911070</td>\n",
       "      <td>NaN</td>\n",
       "      <td>NaN</td>\n",
       "      <td>NaN</td>\n",
       "      <td>Small Spaghetti Clusters with Linear Dominancy</td>\n",
       "      <td>Shipped + Shipped, Shipped + Shipped</td>\n",
       "      <td>3.33</td>\n",
       "      <td>0</td>\n",
       "      <td>NaN</td>\n",
       "      <td>NaN</td>\n",
       "    </tr>\n",
       "    <tr>\n",
       "      <th>1</th>\n",
       "      <td>2</td>\n",
       "      <td>Artificial Digital Photo Copier Event Log</td>\n",
       "      <td>NaN</td>\n",
       "      <td>2012</td>\n",
       "      <td>285 KB</td>\n",
       "      <td>.xes</td>\n",
       "      <td>100.0</td>\n",
       "      <td>99</td>\n",
       "      <td>37873.0</td>\n",
       "      <td>68</td>\n",
       "      <td>...</td>\n",
       "      <td>0.060000</td>\n",
       "      <td>132 days 1 hour</td>\n",
       "      <td>Job</td>\n",
       "      <td>It takes 51 weeks to be able to complete this ...</td>\n",
       "      <td>Either Sequence and Loop \\r\\n\\r\\nOR Loop and D...</td>\n",
       "      <td>Drum Spin Stop, Drum Spin Start</td>\n",
       "      <td>51.00</td>\n",
       "      <td>1</td>\n",
       "      <td>Machine</td>\n",
       "      <td>PRN1</td>\n",
       "    </tr>\n",
       "    <tr>\n",
       "      <th>2</th>\n",
       "      <td>3</td>\n",
       "      <td>BPI Challenge 2012</td>\n",
       "      <td>NaN</td>\n",
       "      <td>2012</td>\n",
       "      <td>3.2 MB</td>\n",
       "      <td>.csv</td>\n",
       "      <td>13087.0</td>\n",
       "      <td>4366</td>\n",
       "      <td>262200.0</td>\n",
       "      <td>36</td>\n",
       "      <td>...</td>\n",
       "      <td>0.453962</td>\n",
       "      <td>1 hour 26 minutes</td>\n",
       "      <td>W_Nabellen incomplete dossiers-Complete, W_Nab...</td>\n",
       "      <td>Potential improvement was chosen at hand max r...</td>\n",
       "      <td>Spaghetti Behavior</td>\n",
       "      <td>W_Completeren aanvraag-Complete, W_Completeren...</td>\n",
       "      <td>33.70</td>\n",
       "      <td>69</td>\n",
       "      <td>Numeric</td>\n",
       "      <td>1002, 1005</td>\n",
       "    </tr>\n",
       "    <tr>\n",
       "      <th>3</th>\n",
       "      <td>4</td>\n",
       "      <td>BPI Challenge 2013, closed problems</td>\n",
       "      <td>NaN</td>\n",
       "      <td>2013</td>\n",
       "      <td>190 KB</td>\n",
       "      <td>.xes</td>\n",
       "      <td>1487.0</td>\n",
       "      <td>327</td>\n",
       "      <td>6600.0</td>\n",
       "      <td>7</td>\n",
       "      <td>...</td>\n",
       "      <td>0.595831</td>\n",
       "      <td>185 days 1 6 hours</td>\n",
       "      <td>Queued- Awaiting Assigment</td>\n",
       "      <td>The case coverage of the max duration is 34.2 ...</td>\n",
       "      <td>Small Spaghetti Clusters with Linear Dominancy</td>\n",
       "      <td>Accepted-In Progress, Completed-Closed</td>\n",
       "      <td>80.80</td>\n",
       "      <td>585</td>\n",
       "      <td>Name, Organisation</td>\n",
       "      <td>Ava, Org Line C</td>\n",
       "    </tr>\n",
       "    <tr>\n",
       "      <th>4</th>\n",
       "      <td>5</td>\n",
       "      <td>BPI Challenge 2013, incidents</td>\n",
       "      <td>NaN</td>\n",
       "      <td>2013</td>\n",
       "      <td>1.299 KB</td>\n",
       "      <td>.xes</td>\n",
       "      <td>7554.0</td>\n",
       "      <td>2278</td>\n",
       "      <td>65533.0</td>\n",
       "      <td>13</td>\n",
       "      <td>...</td>\n",
       "      <td>0.378343</td>\n",
       "      <td>7 days 7 hours</td>\n",
       "      <td>Accepted + Assigned, Accepted + In Progress</td>\n",
       "      <td>For the performance issue it can be noted that...</td>\n",
       "      <td>Spaghetti Behavior</td>\n",
       "      <td>Queued + Awaiting Assignment, Accepted + In Pr...</td>\n",
       "      <td>59.40</td>\n",
       "      <td>1440</td>\n",
       "      <td>Name, Organisation, Country of Organisation, C...</td>\n",
       "      <td>Siebel, G97, Sweden, se</td>\n",
       "    </tr>\n",
       "    <tr>\n",
       "      <th>...</th>\n",
       "      <td>...</td>\n",
       "      <td>...</td>\n",
       "      <td>...</td>\n",
       "      <td>...</td>\n",
       "      <td>...</td>\n",
       "      <td>...</td>\n",
       "      <td>...</td>\n",
       "      <td>...</td>\n",
       "      <td>...</td>\n",
       "      <td>...</td>\n",
       "      <td>...</td>\n",
       "      <td>...</td>\n",
       "      <td>...</td>\n",
       "      <td>...</td>\n",
       "      <td>...</td>\n",
       "      <td>...</td>\n",
       "      <td>...</td>\n",
       "      <td>...</td>\n",
       "      <td>...</td>\n",
       "      <td>...</td>\n",
       "      <td>...</td>\n",
       "    </tr>\n",
       "    <tr>\n",
       "      <th>93</th>\n",
       "      <td>94</td>\n",
       "      <td>Data-driven Process Discovery - Artificial Eve...</td>\n",
       "      <td>log-20-percent-noise.xes</td>\n",
       "      <td>2016</td>\n",
       "      <td>5.624 KB</td>\n",
       "      <td>.xes</td>\n",
       "      <td>100000.0</td>\n",
       "      <td>2562</td>\n",
       "      <td>914556.0</td>\n",
       "      <td>8</td>\n",
       "      <td>...</td>\n",
       "      <td>0.205770</td>\n",
       "      <td>1 hour 25 minutes</td>\n",
       "      <td>Check, Visit</td>\n",
       "      <td>It should be noted that the potential performa...</td>\n",
       "      <td>Small Spaghetti Clusters with Linear Dominancy</td>\n",
       "      <td>Xray, Check</td>\n",
       "      <td>70.40</td>\n",
       "      <td>5</td>\n",
       "      <td>Nurse Name</td>\n",
       "      <td>Joe, John, Sue, Alice</td>\n",
       "    </tr>\n",
       "    <tr>\n",
       "      <th>94</th>\n",
       "      <td>95</td>\n",
       "      <td>Data-driven Process Discovery - Artificial Eve...</td>\n",
       "      <td>log-25-percent-noise.xes</td>\n",
       "      <td>2016</td>\n",
       "      <td>5.681 KB</td>\n",
       "      <td>.xes</td>\n",
       "      <td>100000.0</td>\n",
       "      <td>2793</td>\n",
       "      <td>920071.0</td>\n",
       "      <td>8</td>\n",
       "      <td>...</td>\n",
       "      <td>0.190220</td>\n",
       "      <td>1 hour 25 minutes</td>\n",
       "      <td>Register,Check</td>\n",
       "      <td>The activity \"Check\" has the most process dura...</td>\n",
       "      <td>Small Spaghetti Clusters with Linear Dominancy</td>\n",
       "      <td>Xray, Check</td>\n",
       "      <td>70.40</td>\n",
       "      <td>5</td>\n",
       "      <td>Nurse Name</td>\n",
       "      <td>Joe, John, Sue, Alice</td>\n",
       "    </tr>\n",
       "    <tr>\n",
       "      <th>95</th>\n",
       "      <td>96</td>\n",
       "      <td>Data-driven Process Discovery - Artificial Eve...</td>\n",
       "      <td>log-30-percent-noise.xes</td>\n",
       "      <td>2016</td>\n",
       "      <td>5.693 KB</td>\n",
       "      <td>.xes</td>\n",
       "      <td>100000.0</td>\n",
       "      <td>2946</td>\n",
       "      <td>924239.0</td>\n",
       "      <td>8</td>\n",
       "      <td>...</td>\n",
       "      <td>0.179090</td>\n",
       "      <td>1 hour 25 minutes</td>\n",
       "      <td>Check,Visit</td>\n",
       "      <td>Even though Check,Visit only has a duration of...</td>\n",
       "      <td>Small Spaghetti Clusters with Linear Dominancy</td>\n",
       "      <td>Xray, Check</td>\n",
       "      <td>70.30</td>\n",
       "      <td>5</td>\n",
       "      <td>Nurse Name</td>\n",
       "      <td>Joe, John, Sue, Alice</td>\n",
       "    </tr>\n",
       "    <tr>\n",
       "      <th>96</th>\n",
       "      <td>97</td>\n",
       "      <td>Data-driven Process Discovery - Artificial Eve...</td>\n",
       "      <td>log-35-percent-noise.xes</td>\n",
       "      <td>2016</td>\n",
       "      <td>6.162 KB</td>\n",
       "      <td>.xes</td>\n",
       "      <td>100000.0</td>\n",
       "      <td>3116</td>\n",
       "      <td>929432.0</td>\n",
       "      <td>8</td>\n",
       "      <td>...</td>\n",
       "      <td>0.168500</td>\n",
       "      <td>1 hour 25 minutes</td>\n",
       "      <td>Check,Visit</td>\n",
       "      <td>Even though Check,Visit only has a duration of...</td>\n",
       "      <td>Small Spaghetti Clusters with Linear Dominancy</td>\n",
       "      <td>Xray, Check</td>\n",
       "      <td>70.30</td>\n",
       "      <td>5</td>\n",
       "      <td>Nurse Name</td>\n",
       "      <td>Joe, John, Sue, Alice</td>\n",
       "    </tr>\n",
       "    <tr>\n",
       "      <th>97</th>\n",
       "      <td>98</td>\n",
       "      <td>Data-driven Process Discovery - Artificial Eve...</td>\n",
       "      <td>log-40-percent-noise.xes</td>\n",
       "      <td>2016</td>\n",
       "      <td>6.072 KB</td>\n",
       "      <td>.xes</td>\n",
       "      <td>100000.0</td>\n",
       "      <td>3282</td>\n",
       "      <td>934135.0</td>\n",
       "      <td>8</td>\n",
       "      <td>...</td>\n",
       "      <td>0.154510</td>\n",
       "      <td>1 hour 25 minutes</td>\n",
       "      <td>Check,Visit</td>\n",
       "      <td>Even though Check,Visit only has a duration of...</td>\n",
       "      <td>Small Spaghetti Clusters with Linear Dominancy</td>\n",
       "      <td>Xray, Check</td>\n",
       "      <td>70.50</td>\n",
       "      <td>5</td>\n",
       "      <td>Nurse Name</td>\n",
       "      <td>Joe, John, Sue, Alice</td>\n",
       "    </tr>\n",
       "  </tbody>\n",
       "</table>\n",
       "<p>98 rows × 40 columns</p>\n",
       "</div>"
      ]
     },
     "execution_count": 4,
     "metadata": {},
     "output_type": "execute_result"
    }
   ],
   "execution_count": 4
  },
  {
   "metadata": {
    "ExecuteTime": {
     "end_time": "2025-07-31T18:30:33.869170Z",
     "start_time": "2025-07-31T18:30:33.840458Z"
    }
   },
   "cell_type": "code",
   "source": "suitable_logs = log_metadata[log_metadata['AdditionalAttributes'].str.contains('Lifecycle Transition', na=False)]",
   "id": "ee5cd0779428a6f9",
   "outputs": [],
   "execution_count": 5
  },
  {
   "metadata": {
    "ExecuteTime": {
     "end_time": "2025-07-31T18:30:34.521074Z",
     "start_time": "2025-07-31T18:30:34.499268Z"
    }
   },
   "cell_type": "code",
   "source": [
    "import numpy as np\n",
    "\n",
    "# Clean base name\n",
    "base_name = (\n",
    "    suitable_logs['EventLogName']\n",
    "    .str.replace(' ', '_', regex=False)\n",
    "    .str.replace(',', '', regex=False)\n",
    ")\n",
    "\n",
    "# Append dataset name only if not NaN\n",
    "dataset_part = suitable_logs['EventLogDatasetFileName'].fillna('')\n",
    "dataset_part = np.where(dataset_part != '', '_' + dataset_part, '')\n",
    "\n",
    "# Conditionally add DatasetFormat only if not already in EventLogDatasetFileName\n",
    "add_format = ~suitable_logs.apply(\n",
    "    lambda row: str(row['DatasetFormat']) in str(row['EventLogDatasetFileName']),\n",
    "    axis=1\n",
    ")\n",
    "format_part = np.where(add_format, suitable_logs['DatasetFormat'], '')\n",
    "\n",
    "# Final column assignment\n",
    "suitable_logs['EventLogFileName'] = base_name + dataset_part + format_part\n",
    "\n",
    "suitable_logs_list = suitable_logs['EventLogFileName'].tolist()"
   ],
   "id": "ac574ff0126e8656",
   "outputs": [
    {
     "name": "stderr",
     "output_type": "stream",
     "text": [
      "/tmp/ipykernel_8962/3334948440.py:22: SettingWithCopyWarning: \n",
      "A value is trying to be set on a copy of a slice from a DataFrame.\n",
      "Try using .loc[row_indexer,col_indexer] = value instead\n",
      "\n",
      "See the caveats in the documentation: https://pandas.pydata.org/pandas-docs/stable/user_guide/indexing.html#returning-a-view-versus-a-copy\n",
      "  suitable_logs['EventLogFileName'] = base_name + dataset_part + format_part\n"
     ]
    }
   ],
   "execution_count": 6
  },
  {
   "metadata": {
    "ExecuteTime": {
     "end_time": "2025-07-31T18:30:37.080795Z",
     "start_time": "2025-07-31T18:30:37.050826Z"
    }
   },
   "cell_type": "code",
   "source": [
    "import glob\n",
    "import os\n",
    "\n",
    "# Load list of suitable filenames\n",
    "valid_filenames = set(sorted(suitable_logs_list))\n",
    "\n",
    "# List and filter .xes files\n",
    "xes_file_paths = glob.glob('/home/vco/Datasets/Collection_Event_Logs/*.xes')\n",
    "xes_file_paths = [os.path.abspath(p) for p in xes_file_paths]\n",
    "print(sorted(xes_file_paths))\n",
    "xes_file_paths = [p for p in xes_file_paths if os.path.basename(p) in valid_filenames]\n",
    "\n",
    "# List and filter .csv files, excluding Metadata.csv\n",
    "csv_file_paths = glob.glob('/home/vco/Datasets/Collection_Event_Logs/*.csv')\n",
    "csv_file_paths = [p for p in csv_file_paths if not p.endswith('Metadata.csv')]\n",
    "csv_file_paths = [os.path.abspath(p) for p in csv_file_paths]\n",
    "csv_file_paths = [p for p in csv_file_paths if os.path.basename(p) in valid_filenames]\n",
    "\n",
    "# Print results\n",
    "print(\"Filtered .xes files:\")\n",
    "print(xes_file_paths)\n",
    "\n",
    "print(\"Filtered .csv files:\")\n",
    "print(csv_file_paths)\n"
   ],
   "id": "33464560798b77a9",
   "outputs": [
    {
     "name": "stdout",
     "output_type": "stream",
     "text": [
      "['/home/vco/Datasets/Collection_Event_Logs/Artificial_Digital_Photo_Copier_Event_Log.xes', '/home/vco/Datasets/Collection_Event_Logs/BPI_Challenge_2012.xes', '/home/vco/Datasets/Collection_Event_Logs/BPI_Challenge_2013_closed_problems.xes', '/home/vco/Datasets/Collection_Event_Logs/BPI_Challenge_2013_incidents.xes', '/home/vco/Datasets/Collection_Event_Logs/BPI_Challenge_2015_Municipality_1.xes', '/home/vco/Datasets/Collection_Event_Logs/BPI_Challenge_2015_Municipality_2.xes', '/home/vco/Datasets/Collection_Event_Logs/BPI_Challenge_2015_Municipality_3.xes', '/home/vco/Datasets/Collection_Event_Logs/BPI_Challenge_2015_Municipality_4.xes', '/home/vco/Datasets/Collection_Event_Logs/BPI_Challenge_2015_Municipality_5.xes', '/home/vco/Datasets/Collection_Event_Logs/BPI_Challenge_2017.xes', '/home/vco/Datasets/Collection_Event_Logs/BPI_Challenge_2017_-_Offer_log.xes', '/home/vco/Datasets/Collection_Event_Logs/BPI_Challenge_2019.xes', '/home/vco/Datasets/Collection_Event_Logs/BPI_Challenge_2020_Request_For_Payment.xes', '/home/vco/Datasets/Collection_Event_Logs/Data-driven_Process_Discovery_log-0-percent-noise.xes', '/home/vco/Datasets/Collection_Event_Logs/Data-driven_Process_Discovery_log-15-percent-noise.xes', '/home/vco/Datasets/Collection_Event_Logs/Data-driven_Process_Discovery_log-20-percent-noise.xes', '/home/vco/Datasets/Collection_Event_Logs/Data-driven_Process_Discovery_log-25-percent-noise.xes', '/home/vco/Datasets/Collection_Event_Logs/Data-driven_Process_Discovery_log-30-percent-noise.xes', '/home/vco/Datasets/Collection_Event_Logs/Data-driven_Process_Discovery_log-35-percent-noise.xes', '/home/vco/Datasets/Collection_Event_Logs/Data-driven_Process_Discovery_log-40-percent-noise.xes', '/home/vco/Datasets/Collection_Event_Logs/Data-driven_Process_Discovery_log-5-percent-noise.xes', '/home/vco/Datasets/Collection_Event_Logs/Environment_Permit_CoSeLoG_WABO_1.xes', '/home/vco/Datasets/Collection_Event_Logs/Environment_Permit_CoSeLoG_WABO_2.xes', '/home/vco/Datasets/Collection_Event_Logs/Environment_Permit_CoSeLoG_WABO_3.xes', '/home/vco/Datasets/Collection_Event_Logs/Environment_Permit_CoSeLoG_WABO_4.xes', '/home/vco/Datasets/Collection_Event_Logs/Environment_Permit_CoSeLoG_WABO_5.xes', '/home/vco/Datasets/Collection_Event_Logs/Hospital_Billing.xes', '/home/vco/Datasets/Collection_Event_Logs/JUnit_4.12_Software.xes', '/home/vco/Datasets/Collection_Event_Logs/Large_Bank_Transaction_Process_10000_Nonoise.xes', '/home/vco/Datasets/Collection_Event_Logs/Large_Bank_Transaction_Process_2000_Nonoise.xes', '/home/vco/Datasets/Collection_Event_Logs/Large_Bank_Transaction_Process_2000_Scen1.xes', '/home/vco/Datasets/Collection_Event_Logs/Large_Bank_Transaction_Process_2000_Scen2.xes', '/home/vco/Datasets/Collection_Event_Logs/Real-life_Hospital_log.xes', '/home/vco/Datasets/Collection_Event_Logs/Receipt_phase_CoSeLog_WABO.xes', '/home/vco/Datasets/Collection_Event_Logs/Recomposing_Conformance_L0.xes', '/home/vco/Datasets/Collection_Event_Logs/Recomposing_Conformance_L1.xes', '/home/vco/Datasets/Collection_Event_Logs/Recomposing_Conformance_L3.xes', '/home/vco/Datasets/Collection_Event_Logs/Recomposing_Conformance_L36.xes', '/home/vco/Datasets/Collection_Event_Logs/Recomposing_Conformance_L37.xes', '/home/vco/Datasets/Collection_Event_Logs/Recomposing_Conformance_L4.xes', '/home/vco/Datasets/Collection_Event_Logs/Recomposing_Conformance_L50.xes', '/home/vco/Datasets/Collection_Event_Logs/Recomposing_Conformance_L52.xes', '/home/vco/Datasets/Collection_Event_Logs/Recomposing_Conformance_L63.xes', '/home/vco/Datasets/Collection_Event_Logs/Replicating_Existing_IOR5k_LOGGEN_5.xes', '/home/vco/Datasets/Collection_Event_Logs/Replicating_Existing_IRO5k_LOGGEN_6.xes', '/home/vco/Datasets/Collection_Event_Logs/Replicating_Existing_OIR5k_LOGGEN_8.xes', '/home/vco/Datasets/Collection_Event_Logs/Replicating_Existing_OIR5k_LOGGEN_9.xes', '/home/vco/Datasets/Collection_Event_Logs/Replicating_Existing_RIO5k_LOGGEN_4.xes', '/home/vco/Datasets/Collection_Event_Logs/Replicating_Existing_ROI5k_LOGGEN_3.xes', '/home/vco/Datasets/Collection_Event_Logs/Replicating_Existing_cb5k_LOGGEN_0.xes', '/home/vco/Datasets/Collection_Event_Logs/Replicating_Existing_cd5k_LOGGEN_1.xes', '/home/vco/Datasets/Collection_Event_Logs/Replicating_Existing_cf5k_LOGGEN_2.xes', '/home/vco/Datasets/Collection_Event_Logs/Replicating_Existing_cm5k_LOGGEN_3.xes', '/home/vco/Datasets/Collection_Event_Logs/Replicating_Existing_cp5k_LOGGEN_4.xes', '/home/vco/Datasets/Collection_Event_Logs/Replicating_Existing_lp5k_LOGGEN_7.xes', '/home/vco/Datasets/Collection_Event_Logs/Replicating_Existing_pm5k_LOGGEN_1.xes', '/home/vco/Datasets/Collection_Event_Logs/Replicating_Existing_rp5k_LOGGEN_5.xes', '/home/vco/Datasets/Collection_Event_Logs/Replicating_Existing_sw5k_LOGGEN_6.xes', '/home/vco/Datasets/Collection_Event_Logs/Road_Traffic_Fine_Management_Process.xes', '/home/vco/Datasets/Collection_Event_Logs/Sepsis_Treatment_Careflow.xes', '/home/vco/Datasets/Collection_Event_Logs/Synthetic_event_logs_review_example_large.xes', '/home/vco/Datasets/Collection_Event_Logs/Testing_Biases_duplicates-log-global-noise-1000a.xes', '/home/vco/Datasets/Collection_Event_Logs/Testing_Biases_duplicates-log-little-global-noise-1000a.xes', '/home/vco/Datasets/Collection_Event_Logs/Testing_Biases_duplicates-log-little-local-noise-1000a.xes', '/home/vco/Datasets/Collection_Event_Logs/Testing_Biases_duplicates-log-local-noise-1000a.xes', '/home/vco/Datasets/Collection_Event_Logs/Testing_Biases_duplicates-no-noise-1000a.xes', '/home/vco/Datasets/Collection_Event_Logs/Testing_Biases_duplicates-semi-local-noise-1000a.xes', '/home/vco/Datasets/Collection_Event_Logs/Testing_Biases_nfc-log-global-noise-1000a.xes', '/home/vco/Datasets/Collection_Event_Logs/Testing_Biases_nfc-log-little-global-noise-1000a.xes', '/home/vco/Datasets/Collection_Event_Logs/Testing_Biases_nfc-log-little-local-noise-1000a.xes', '/home/vco/Datasets/Collection_Event_Logs/Testing_Biases_nfc-log-local-noise-1000a.xes', '/home/vco/Datasets/Collection_Event_Logs/Testing_Biases_nfc-log-no-noise-1000a.xes', '/home/vco/Datasets/Collection_Event_Logs/Testing_Biases_nfc-log-semi-local-noise-1000a.xes', '/home/vco/Datasets/Collection_Event_Logs/Testing_Biases_parallel-log-global-noise-1000a.xes', '/home/vco/Datasets/Collection_Event_Logs/Testing_Biases_parallel-log-little-global-noise-1000a.xes', '/home/vco/Datasets/Collection_Event_Logs/Testing_Biases_parallel-log-little-local-noise-1000a.xes', '/home/vco/Datasets/Collection_Event_Logs/Testing_Biases_parallel-log-local-noise-1000a.xes', '/home/vco/Datasets/Collection_Event_Logs/Testing_Biases_parallel-log-no-noise-1000a.xes', '/home/vco/Datasets/Collection_Event_Logs/Testing_Biases_parallel-log-semi-local-noise-1000a.xes', '/home/vco/Datasets/Collection_Event_Logs/Testing_Biases_skip-log-global-noise-1000a.xes', '/home/vco/Datasets/Collection_Event_Logs/Testing_Biases_skip-log-little-global-noise-1000a.xes', '/home/vco/Datasets/Collection_Event_Logs/Testing_Biases_skip-log-little-local-noise-1000a.xes', '/home/vco/Datasets/Collection_Event_Logs/Testing_Biases_skip-log-local-noise-1000a.xes', '/home/vco/Datasets/Collection_Event_Logs/Testing_Biases_skip-log-no-noise-1000a.xes', '/home/vco/Datasets/Collection_Event_Logs/Testing_Biases_skip-log-semi-local-noise-1000a.xes', '/home/vco/Datasets/Collection_Event_Logs/Validation_Precision_Measures_nec_a2_L.xes']\n",
      "Filtered .xes files:\n",
      "['/home/vco/Datasets/Collection_Event_Logs/BPI_Challenge_2013_incidents.xes', '/home/vco/Datasets/Collection_Event_Logs/BPI_Challenge_2015_Municipality_4.xes', '/home/vco/Datasets/Collection_Event_Logs/Sepsis_Treatment_Careflow.xes', '/home/vco/Datasets/Collection_Event_Logs/BPI_Challenge_2017_-_Offer_log.xes', '/home/vco/Datasets/Collection_Event_Logs/BPI_Challenge_2015_Municipality_2.xes', '/home/vco/Datasets/Collection_Event_Logs/BPI_Challenge_2015_Municipality_5.xes', '/home/vco/Datasets/Collection_Event_Logs/BPI_Challenge_2015_Municipality_3.xes', '/home/vco/Datasets/Collection_Event_Logs/BPI_Challenge_2015_Municipality_1.xes', '/home/vco/Datasets/Collection_Event_Logs/BPI_Challenge_2017.xes', '/home/vco/Datasets/Collection_Event_Logs/BPI_Challenge_2013_closed_problems.xes', '/home/vco/Datasets/Collection_Event_Logs/Artificial_Digital_Photo_Copier_Event_Log.xes']\n",
      "Filtered .csv files:\n",
      "[]\n"
     ]
    }
   ],
   "execution_count": 7
  },
  {
   "metadata": {
    "ExecuteTime": {
     "end_time": "2025-07-31T18:30:43.204240Z",
     "start_time": "2025-07-31T18:30:43.183909Z"
    }
   },
   "cell_type": "code",
   "source": [
    "suitable_logs_list.remove('BPI_Challenge_2012.csv')\n",
    "suitable_logs_list.append('BPI_Challenge_2012.xes')"
   ],
   "id": "9002f363a12d7736",
   "outputs": [],
   "execution_count": 8
  },
  {
   "metadata": {
    "ExecuteTime": {
     "end_time": "2025-07-31T18:30:43.809271Z",
     "start_time": "2025-07-31T18:30:43.784597Z"
    }
   },
   "cell_type": "code",
   "source": "sorted(suitable_logs_list)",
   "id": "5137fcc9c0aa3",
   "outputs": [
    {
     "data": {
      "text/plain": [
       "['Artificial_Digital_Photo_Copier_Event_Log.xes',\n",
       " 'BPI_Challenge_2012.xes',\n",
       " 'BPI_Challenge_2013_closed_problems.xes',\n",
       " 'BPI_Challenge_2013_incidents.xes',\n",
       " 'BPI_Challenge_2015_Municipality_1.xes',\n",
       " 'BPI_Challenge_2015_Municipality_2.xes',\n",
       " 'BPI_Challenge_2015_Municipality_3.xes',\n",
       " 'BPI_Challenge_2015_Municipality_4.xes',\n",
       " 'BPI_Challenge_2015_Municipality_5.xes',\n",
       " 'BPI_Challenge_2017.xes',\n",
       " 'BPI_Challenge_2017_-_Offer_log.xes',\n",
       " 'Data-driven_Process_Discovery_-_Artificial_Event_Log_log-0-percent-noise.xes',\n",
       " 'Data-driven_Process_Discovery_-_Artificial_Event_Log_log-15-percent-noise.xes',\n",
       " 'Data-driven_Process_Discovery_-_Artificial_Event_Log_log-20-percent-noise.xes',\n",
       " 'Data-driven_Process_Discovery_-_Artificial_Event_Log_log-25-percent-noise.xes',\n",
       " 'Data-driven_Process_Discovery_-_Artificial_Event_Log_log-30-percent-noise.xes',\n",
       " 'Data-driven_Process_Discovery_-_Artificial_Event_Log_log-35-percent-noise.xes',\n",
       " 'Data-driven_Process_Discovery_-_Artificial_Event_Log_log-40-percent-noise.xes',\n",
       " 'Data-driven_Process_Discovery_-_Artificial_Event_Log_log-5-percent-noise.xes',\n",
       " 'Environmental_permit_application_process_(‘WABO’)_CoSeLoG_project_–_Municipality_1.xes',\n",
       " 'Environmental_permit_application_process_(‘WABO’)_CoSeLoG_project_–_Municipality_2.xes',\n",
       " 'Environmental_permit_application_process_(‘WABO’)_CoSeLoG_project_–_Municipality_3.xes',\n",
       " 'Environmental_permit_application_process_(‘WABO’)_CoSeLoG_project_–_Municipality_4.xes',\n",
       " 'Environmental_permit_application_process_(‘WABO’)_CoSeLoG_project_–_Municipality_5.xes',\n",
       " 'JUnit_4.12_Software_Event_Log.xes',\n",
       " 'Large_Bank_Transaction_Process_10000-all-nonoise.xes',\n",
       " 'Large_Bank_Transaction_Process_2000-all-nonoise.xes',\n",
       " 'Large_Bank_Transaction_Process_2000-scen1.xes',\n",
       " 'Large_Bank_Transaction_Process_2000-scen2.xes',\n",
       " 'Real-life_event_logs_-_Hospital_log.xes',\n",
       " 'Receipt_phase_of_an_environmental_permit_application_process_(WABO)_CoSeLoG_project.xes',\n",
       " 'Replicating_existent_event_logs_using_LOGGEN_IOR5k_LOGGEN_5.xes',\n",
       " 'Replicating_existent_event_logs_using_LOGGEN_IRO5k_LOGGEN_6.xes',\n",
       " 'Replicating_existent_event_logs_using_LOGGEN_OIR5k_LOGGEN_8.xes',\n",
       " 'Replicating_existent_event_logs_using_LOGGEN_ORI5k_LOGGEN_9.xes',\n",
       " 'Replicating_existent_event_logs_using_LOGGEN_RIO5k_LOGGEN_3.xes',\n",
       " 'Replicating_existent_event_logs_using_LOGGEN_ROI5k_LOGGEN_4.xes',\n",
       " 'Replicating_existent_event_logs_using_LOGGEN_cb5k_LOGGEN_0.xes',\n",
       " 'Replicating_existent_event_logs_using_LOGGEN_cd5k_LOGGEN_1.xes',\n",
       " 'Replicating_existent_event_logs_using_LOGGEN_cf5k_LOGGEN_2.xes',\n",
       " 'Replicating_existent_event_logs_using_LOGGEN_cm5k_LOGGEN_3.xes',\n",
       " 'Replicating_existent_event_logs_using_LOGGEN_cp5k_LOGGEN_4.xes',\n",
       " 'Replicating_existent_event_logs_using_LOGGEN_lp5k_LOGGEN_7.xes',\n",
       " 'Replicating_existent_event_logs_using_LOGGEN_pm5k_LOGGEN_1.xes',\n",
       " 'Replicating_existent_event_logs_using_LOGGEN_rp5k_LOGGEN_5.xes',\n",
       " 'Replicating_existent_event_logs_using_LOGGEN_sw5k_LOGGEN_6.xes',\n",
       " 'Sepsis_Treatment_Careflow.xes',\n",
       " 'Synthetic_event_logs_-_review_example_large.xes.gz.xes',\n",
       " 'paoloceravolo/PM-Regensburg_reviewing.csv']"
      ]
     },
     "execution_count": 9,
     "metadata": {},
     "output_type": "execute_result"
    }
   ],
   "execution_count": 9
  },
  {
   "metadata": {
    "ExecuteTime": {
     "end_time": "2025-07-31T18:30:44.685942Z",
     "start_time": "2025-07-31T18:30:44.666181Z"
    }
   },
   "cell_type": "code",
   "source": "xes_file_paths",
   "id": "7172c7c7f70d3dc",
   "outputs": [
    {
     "data": {
      "text/plain": [
       "['/home/vco/Datasets/Collection_Event_Logs/BPI_Challenge_2013_incidents.xes',\n",
       " '/home/vco/Datasets/Collection_Event_Logs/BPI_Challenge_2015_Municipality_4.xes',\n",
       " '/home/vco/Datasets/Collection_Event_Logs/Sepsis_Treatment_Careflow.xes',\n",
       " '/home/vco/Datasets/Collection_Event_Logs/BPI_Challenge_2017_-_Offer_log.xes',\n",
       " '/home/vco/Datasets/Collection_Event_Logs/BPI_Challenge_2015_Municipality_2.xes',\n",
       " '/home/vco/Datasets/Collection_Event_Logs/BPI_Challenge_2015_Municipality_5.xes',\n",
       " '/home/vco/Datasets/Collection_Event_Logs/BPI_Challenge_2015_Municipality_3.xes',\n",
       " '/home/vco/Datasets/Collection_Event_Logs/BPI_Challenge_2015_Municipality_1.xes',\n",
       " '/home/vco/Datasets/Collection_Event_Logs/BPI_Challenge_2017.xes',\n",
       " '/home/vco/Datasets/Collection_Event_Logs/BPI_Challenge_2013_closed_problems.xes',\n",
       " '/home/vco/Datasets/Collection_Event_Logs/Artificial_Digital_Photo_Copier_Event_Log.xes']"
      ]
     },
     "execution_count": 10,
     "metadata": {},
     "output_type": "execute_result"
    }
   ],
   "execution_count": 10
  },
  {
   "metadata": {
    "ExecuteTime": {
     "end_time": "2025-07-30T13:49:22.169119Z",
     "start_time": "2025-07-30T13:48:58.371135Z"
    }
   },
   "cell_type": "code",
   "source": [
    "# log = pm4py.read_xes('/home/vco/Projects/pm4py-dcr4py/tests/input_data/roadtraffic50traces.xes')\n",
    "log = pm4py.read_xes('/home/vco/Datasets/Road_Traffic_Fine_Management_Process.xes.gz')"
   ],
   "id": "947fecaf64fb5dfb",
   "outputs": [
    {
     "name": "stderr",
     "output_type": "stream",
     "text": [
      "parsing log, completed traces :: 100%|██████████| 150370/150370 [00:15<00:00, 9957.49it/s] \n"
     ]
    }
   ],
   "execution_count": 10
  },
  {
   "metadata": {
    "ExecuteTime": {
     "end_time": "2025-07-31T13:16:42.442835Z",
     "start_time": "2025-07-31T13:16:41.825955Z"
    }
   },
   "cell_type": "code",
   "source": [
    "sepsis = \"Sepsis_Cases_Event_Log.xes\"\n",
    "log = pm4py.read_xes(f'/home/vco/Datasets/{sepsis}')"
   ],
   "id": "df62a02ff1ed9465",
   "outputs": [
    {
     "name": "stderr",
     "output_type": "stream",
     "text": [
      "/home/vco/.pyenv/versions/pm4py-dcr/lib/python3.11/site-packages/tqdm/auto.py:21: TqdmWarning: IProgress not found. Please update jupyter and ipywidgets. See https://ipywidgets.readthedocs.io/en/stable/user_install.html\n",
      "  from .autonotebook import tqdm as notebook_tqdm\n",
      "parsing log, completed traces :: 100%|██████████| 1050/1050 [00:00<00:00, 2876.64it/s]\n"
     ]
    }
   ],
   "execution_count": 5
  },
  {
   "metadata": {
    "ExecuteTime": {
     "end_time": "2025-07-31T18:31:23.611333Z",
     "start_time": "2025-07-31T18:31:15.052826Z"
    }
   },
   "cell_type": "code",
   "source": "log = pm4py.read_xes('/home/vco/Datasets/Collection_Event_Logs/BPI_Challenge_2012.xes')",
   "id": "d0eb39fa8ed7af96",
   "outputs": [
    {
     "name": "stderr",
     "output_type": "stream",
     "text": [
      "/home/vco/.pyenv/versions/pm4py-dcr/lib/python3.11/site-packages/tqdm/auto.py:21: TqdmWarning: IProgress not found. Please update jupyter and ipywidgets. See https://ipywidgets.readthedocs.io/en/stable/user_install.html\n",
      "  from .autonotebook import tqdm as notebook_tqdm\n",
      "parsing log, completed traces :: 100%|██████████| 13087/13087 [00:05<00:00, 2468.19it/s]\n"
     ]
    }
   ],
   "execution_count": 11
  },
  {
   "metadata": {
    "ExecuteTime": {
     "end_time": "2025-07-31T18:36:12.106939Z",
     "start_time": "2025-07-31T18:36:12.059524Z"
    }
   },
   "cell_type": "code",
   "source": "all_events = set(log['concept:name'].unique())",
   "id": "f3487e3685ad7165",
   "outputs": [],
   "execution_count": 15
  },
  {
   "metadata": {
    "ExecuteTime": {
     "end_time": "2025-07-31T18:41:15.930410Z",
     "start_time": "2025-07-31T18:41:15.423881Z"
    }
   },
   "cell_type": "code",
   "source": [
    "events_with_detailed_lifecycles = set()\n",
    "subset_logs_for_event = {}\n",
    "for event in all_events:\n",
    "    subset_log = log[log['concept:name']==event][['case:concept:name','lifecycle:transition','time:timestamp']]\n",
    "    lifecycle_transitions = subset_log['lifecycle:transition'].unique()\n",
    "    if len(lifecycle_transitions) > 1:\n",
    "        print(event, lifecycle_transitions)\n",
    "        events_with_detailed_lifecycles.add(event)\n",
    "        subset_log.rename({'lifecycle:transition':'concept:name'},axis=1,inplace=True)\n",
    "        subset_logs_for_event[event] = subset_log"
   ],
   "id": "3259d085151c00d8",
   "outputs": [
    {
     "name": "stdout",
     "output_type": "stream",
     "text": [
      "W_Nabellen offertes ['SCHEDULE' 'START' 'COMPLETE']\n",
      "W_Completeren aanvraag ['SCHEDULE' 'START' 'COMPLETE']\n",
      "W_Nabellen incomplete dossiers ['SCHEDULE' 'START' 'COMPLETE']\n",
      "W_Valideren aanvraag ['SCHEDULE' 'START' 'COMPLETE']\n",
      "W_Afhandelen leads ['SCHEDULE' 'START' 'COMPLETE']\n",
      "W_Beoordelen fraude ['SCHEDULE' 'START' 'COMPLETE']\n"
     ]
    }
   ],
   "execution_count": 17
  },
  {
   "metadata": {
    "ExecuteTime": {
     "end_time": "2025-07-31T19:35:02.490423Z",
     "start_time": "2025-07-31T19:35:02.436214Z"
    }
   },
   "cell_type": "code",
   "source": "only_complete_lifecycle_log = log[log['lifecycle:transition']=='COMPLETE']",
   "id": "58054a9f3d5e8439",
   "outputs": [],
   "execution_count": 30
  },
  {
   "metadata": {
    "ExecuteTime": {
     "end_time": "2025-07-31T19:35:24.688695Z",
     "start_time": "2025-07-31T19:35:24.665050Z"
    }
   },
   "cell_type": "code",
   "source": "only_complete_lifecycle_log",
   "id": "6c4da0fa9024477",
   "outputs": [
    {
     "data": {
      "text/plain": [
       "       org:resource lifecycle:transition         concept:name  \\\n",
       "0               112             COMPLETE          A_SUBMITTED   \n",
       "1               112             COMPLETE    A_PARTLYSUBMITTED   \n",
       "2               112             COMPLETE        A_PREACCEPTED   \n",
       "5             10862             COMPLETE           A_ACCEPTED   \n",
       "6             10862             COMPLETE           O_SELECTED   \n",
       "...             ...                  ...                  ...   \n",
       "262193        11119             COMPLETE  W_Nabellen offertes   \n",
       "262194          112             COMPLETE          A_SUBMITTED   \n",
       "262195          112             COMPLETE    A_PARTLYSUBMITTED   \n",
       "262198        11169             COMPLETE           A_DECLINED   \n",
       "262199        11169             COMPLETE   W_Afhandelen leads   \n",
       "\n",
       "                         time:timestamp                    case:REG_DATE  \\\n",
       "0      2011-10-01 00:38:44.546000+00:00 2011-10-01 00:38:44.546000+00:00   \n",
       "1      2011-10-01 00:38:44.880000+00:00 2011-10-01 00:38:44.546000+00:00   \n",
       "2      2011-10-01 00:39:37.906000+00:00 2011-10-01 00:38:44.546000+00:00   \n",
       "5      2011-10-01 11:42:43.308000+00:00 2011-10-01 00:38:44.546000+00:00   \n",
       "6      2011-10-01 11:45:09.243000+00:00 2011-10-01 00:38:44.546000+00:00   \n",
       "...                                 ...                              ...   \n",
       "262193 2012-03-10 12:50:54.881000+00:00 2012-02-29 23:43:09.766000+00:00   \n",
       "262194 2012-02-29 23:51:16.799000+00:00 2012-02-29 23:51:16.799000+00:00   \n",
       "262195 2012-02-29 23:51:17.423000+00:00 2012-02-29 23:51:16.799000+00:00   \n",
       "262198 2012-03-01 09:27:37.118000+00:00 2012-02-29 23:51:16.799000+00:00   \n",
       "262199 2012-03-01 09:27:41.325000+00:00 2012-02-29 23:51:16.799000+00:00   \n",
       "\n",
       "       case:concept:name case:AMOUNT_REQ  \n",
       "0                 173688           20000  \n",
       "1                 173688           20000  \n",
       "2                 173688           20000  \n",
       "5                 173688           20000  \n",
       "6                 173688           20000  \n",
       "...                  ...             ...  \n",
       "262193            214373            8500  \n",
       "262194            214376           15000  \n",
       "262195            214376           15000  \n",
       "262198            214376           15000  \n",
       "262199            214376           15000  \n",
       "\n",
       "[164506 rows x 7 columns]"
      ],
      "text/html": [
       "<div>\n",
       "<style scoped>\n",
       "    .dataframe tbody tr th:only-of-type {\n",
       "        vertical-align: middle;\n",
       "    }\n",
       "\n",
       "    .dataframe tbody tr th {\n",
       "        vertical-align: top;\n",
       "    }\n",
       "\n",
       "    .dataframe thead th {\n",
       "        text-align: right;\n",
       "    }\n",
       "</style>\n",
       "<table border=\"1\" class=\"dataframe\">\n",
       "  <thead>\n",
       "    <tr style=\"text-align: right;\">\n",
       "      <th></th>\n",
       "      <th>org:resource</th>\n",
       "      <th>lifecycle:transition</th>\n",
       "      <th>concept:name</th>\n",
       "      <th>time:timestamp</th>\n",
       "      <th>case:REG_DATE</th>\n",
       "      <th>case:concept:name</th>\n",
       "      <th>case:AMOUNT_REQ</th>\n",
       "    </tr>\n",
       "  </thead>\n",
       "  <tbody>\n",
       "    <tr>\n",
       "      <th>0</th>\n",
       "      <td>112</td>\n",
       "      <td>COMPLETE</td>\n",
       "      <td>A_SUBMITTED</td>\n",
       "      <td>2011-10-01 00:38:44.546000+00:00</td>\n",
       "      <td>2011-10-01 00:38:44.546000+00:00</td>\n",
       "      <td>173688</td>\n",
       "      <td>20000</td>\n",
       "    </tr>\n",
       "    <tr>\n",
       "      <th>1</th>\n",
       "      <td>112</td>\n",
       "      <td>COMPLETE</td>\n",
       "      <td>A_PARTLYSUBMITTED</td>\n",
       "      <td>2011-10-01 00:38:44.880000+00:00</td>\n",
       "      <td>2011-10-01 00:38:44.546000+00:00</td>\n",
       "      <td>173688</td>\n",
       "      <td>20000</td>\n",
       "    </tr>\n",
       "    <tr>\n",
       "      <th>2</th>\n",
       "      <td>112</td>\n",
       "      <td>COMPLETE</td>\n",
       "      <td>A_PREACCEPTED</td>\n",
       "      <td>2011-10-01 00:39:37.906000+00:00</td>\n",
       "      <td>2011-10-01 00:38:44.546000+00:00</td>\n",
       "      <td>173688</td>\n",
       "      <td>20000</td>\n",
       "    </tr>\n",
       "    <tr>\n",
       "      <th>5</th>\n",
       "      <td>10862</td>\n",
       "      <td>COMPLETE</td>\n",
       "      <td>A_ACCEPTED</td>\n",
       "      <td>2011-10-01 11:42:43.308000+00:00</td>\n",
       "      <td>2011-10-01 00:38:44.546000+00:00</td>\n",
       "      <td>173688</td>\n",
       "      <td>20000</td>\n",
       "    </tr>\n",
       "    <tr>\n",
       "      <th>6</th>\n",
       "      <td>10862</td>\n",
       "      <td>COMPLETE</td>\n",
       "      <td>O_SELECTED</td>\n",
       "      <td>2011-10-01 11:45:09.243000+00:00</td>\n",
       "      <td>2011-10-01 00:38:44.546000+00:00</td>\n",
       "      <td>173688</td>\n",
       "      <td>20000</td>\n",
       "    </tr>\n",
       "    <tr>\n",
       "      <th>...</th>\n",
       "      <td>...</td>\n",
       "      <td>...</td>\n",
       "      <td>...</td>\n",
       "      <td>...</td>\n",
       "      <td>...</td>\n",
       "      <td>...</td>\n",
       "      <td>...</td>\n",
       "    </tr>\n",
       "    <tr>\n",
       "      <th>262193</th>\n",
       "      <td>11119</td>\n",
       "      <td>COMPLETE</td>\n",
       "      <td>W_Nabellen offertes</td>\n",
       "      <td>2012-03-10 12:50:54.881000+00:00</td>\n",
       "      <td>2012-02-29 23:43:09.766000+00:00</td>\n",
       "      <td>214373</td>\n",
       "      <td>8500</td>\n",
       "    </tr>\n",
       "    <tr>\n",
       "      <th>262194</th>\n",
       "      <td>112</td>\n",
       "      <td>COMPLETE</td>\n",
       "      <td>A_SUBMITTED</td>\n",
       "      <td>2012-02-29 23:51:16.799000+00:00</td>\n",
       "      <td>2012-02-29 23:51:16.799000+00:00</td>\n",
       "      <td>214376</td>\n",
       "      <td>15000</td>\n",
       "    </tr>\n",
       "    <tr>\n",
       "      <th>262195</th>\n",
       "      <td>112</td>\n",
       "      <td>COMPLETE</td>\n",
       "      <td>A_PARTLYSUBMITTED</td>\n",
       "      <td>2012-02-29 23:51:17.423000+00:00</td>\n",
       "      <td>2012-02-29 23:51:16.799000+00:00</td>\n",
       "      <td>214376</td>\n",
       "      <td>15000</td>\n",
       "    </tr>\n",
       "    <tr>\n",
       "      <th>262198</th>\n",
       "      <td>11169</td>\n",
       "      <td>COMPLETE</td>\n",
       "      <td>A_DECLINED</td>\n",
       "      <td>2012-03-01 09:27:37.118000+00:00</td>\n",
       "      <td>2012-02-29 23:51:16.799000+00:00</td>\n",
       "      <td>214376</td>\n",
       "      <td>15000</td>\n",
       "    </tr>\n",
       "    <tr>\n",
       "      <th>262199</th>\n",
       "      <td>11169</td>\n",
       "      <td>COMPLETE</td>\n",
       "      <td>W_Afhandelen leads</td>\n",
       "      <td>2012-03-01 09:27:41.325000+00:00</td>\n",
       "      <td>2012-02-29 23:51:16.799000+00:00</td>\n",
       "      <td>214376</td>\n",
       "      <td>15000</td>\n",
       "    </tr>\n",
       "  </tbody>\n",
       "</table>\n",
       "<p>164506 rows × 7 columns</p>\n",
       "</div>"
      ]
     },
     "execution_count": 31,
     "metadata": {},
     "output_type": "execute_result"
    }
   ],
   "execution_count": 31
  },
  {
   "metadata": {
    "ExecuteTime": {
     "end_time": "2025-07-31T18:54:28.062385Z",
     "start_time": "2025-07-31T18:52:30.365270Z"
    }
   },
   "cell_type": "code",
   "source": [
    "lifecycle_graphs_for_event = {}\n",
    "for event, subset_log in subset_logs_for_event.items():\n",
    "    graph, timings = pm4py.discover_dcr(subset_log, post_process={'timed'})\n",
    "    lifecycle_graphs_for_event[event] = graph"
   ],
   "id": "eab9a2b0fa0e317c",
   "outputs": [],
   "execution_count": 18
  },
  {
   "metadata": {
    "ExecuteTime": {
     "end_time": "2025-07-31T18:58:16.665992Z",
     "start_time": "2025-07-31T18:58:16.510496Z"
    }
   },
   "cell_type": "code",
   "source": [
    "for event, graph in lifecycle_graphs_for_event.items():\n",
    "    print(event)\n",
    "    pm4py.view_dcr(graph)"
   ],
   "id": "1d4632635533ba96",
   "outputs": [
    {
     "name": "stdout",
     "output_type": "stream",
     "text": [
      "W_Nabellen offertes\n"
     ]
    },
    {
     "data": {
      "image/png": "[encoded data removed]",
      "text/plain": [
       "<IPython.core.display.Image object>"
      ]
     },
     "metadata": {},
     "output_type": "display_data"
    },
    {
     "name": "stdout",
     "output_type": "stream",
     "text": [
      "W_Completeren aanvraag\n"
     ]
    },
    {
     "data": {
      "image/png": "[encoded data removed]",
      "text/plain": [
       "<IPython.core.display.Image object>"
      ]
     },
     "metadata": {},
     "output_type": "display_data"
    },
    {
     "name": "stdout",
     "output_type": "stream",
     "text": [
      "W_Nabellen incomplete dossiers\n"
     ]
    },
    {
     "data": {
      "image/png": "[encoded data removed]",
      "text/plain": [
       "<IPython.core.display.Image object>"
      ]
     },
     "metadata": {},
     "output_type": "display_data"
    },
    {
     "name": "stdout",
     "output_type": "stream",
     "text": [
      "W_Valideren aanvraag\n"
     ]
    },
    {
     "data": {
      "image/png": "[encoded data removed]",
      "text/plain": [
       "<IPython.core.display.Image object>"
      ]
     },
     "metadata": {},
     "output_type": "display_data"
    },
    {
     "name": "stdout",
     "output_type": "stream",
     "text": [
      "W_Afhandelen leads\n"
     ]
    },
    {
     "data": {
      "image/png": "[encoded data removed]",
      "text/plain": [
       "<IPython.core.display.Image object>"
      ]
     },
     "metadata": {},
     "output_type": "display_data"
    },
    {
     "name": "stdout",
     "output_type": "stream",
     "text": [
      "W_Beoordelen fraude\n"
     ]
    },
    {
     "data": {
      "image/png": "[encoded data removed]",
      "text/plain": [
       "<IPython.core.display.Image object>"
      ]
     },
     "metadata": {},
     "output_type": "display_data"
    }
   ],
   "execution_count": 27
  },
  {
   "metadata": {
    "ExecuteTime": {
     "end_time": "2025-07-31T18:54:36.794952Z",
     "start_time": "2025-07-31T18:54:36.775004Z"
    }
   },
   "cell_type": "code",
   "source": "from copy import deepcopy",
   "id": "63be230513c82215",
   "outputs": [],
   "execution_count": 20
  },
  {
   "metadata": {
    "ExecuteTime": {
     "end_time": "2025-07-31T18:57:27.023594Z",
     "start_time": "2025-07-31T18:57:08.476084Z"
    }
   },
   "cell_type": "code",
   "source": [
    "domain_knowledge_abstraction_log = deepcopy(log)\n",
    "domain_knowledge_abstraction_log['concept:name'] = domain_knowledge_abstraction_log['concept:name'].apply(\n",
    "    lambda x: x.split('_')[0])\n",
    "subprocess_graph, subprocess_timings = pm4py.discover_dcr(domain_knowledge_abstraction_log, post_process={'timed'})"
   ],
   "id": "5f6523f51d3c508a",
   "outputs": [],
   "execution_count": 25
  },
  {
   "metadata": {
    "ExecuteTime": {
     "end_time": "2025-07-31T18:57:27.076132Z",
     "start_time": "2025-07-31T18:57:27.042418Z"
    }
   },
   "cell_type": "code",
   "source": "pm4py.view_dcr(subprocess_graph)",
   "id": "b7d037077a89da2f",
   "outputs": [
    {
     "data": {
      "image/png": "[encoded data removed]",
      "text/plain": [
       "<IPython.core.display.Image object>"
      ]
     },
     "metadata": {},
     "output_type": "display_data"
    }
   ],
   "execution_count": 26
  },
  {
   "metadata": {
    "ExecuteTime": {
     "end_time": "2025-07-31T19:37:43.417370Z",
     "start_time": "2025-07-31T19:37:43.344215Z"
    }
   },
   "cell_type": "code",
   "source": [
    "lifecycle_in_event_log = deepcopy(log)\n",
    "lifecycle_in_event_log['concept:name'] = lifecycle_in_event_log['concept:name'] + '+' + lifecycle_in_event_log['lifecycle:transition']"
   ],
   "id": "40ccb58c87642d95",
   "outputs": [],
   "execution_count": 32
  },
  {
   "metadata": {
    "ExecuteTime": {
     "end_time": "2025-07-31T19:50:11.796418Z",
     "start_time": "2025-07-31T19:43:02.919170Z"
    }
   },
   "cell_type": "code",
   "source": "lifecycle_in_event_graph, _ = pm4py.discover_dcr(lifecycle_in_event_log, post_process={'nesting','timed'},nest_variant=NestVariants.CHOICE)",
   "id": "52689e64dca0e74b",
   "outputs": [],
   "execution_count": 34
  },
  {
   "metadata": {
    "ExecuteTime": {
     "end_time": "2025-07-31T19:54:33.273606Z",
     "start_time": "2025-07-31T19:50:11.814178Z"
    }
   },
   "cell_type": "code",
   "source": "graph, timings = pm4py.discover_dcr(log,post_process={'nesting','timed'},nest_variant=NestVariants.CHOICE)",
   "id": "ea73de7c1f658e1c",
   "outputs": [],
   "execution_count": 35
  },
  {
   "metadata": {
    "ExecuteTime": {
     "end_time": "2025-07-31T20:38:02.554355Z",
     "start_time": "2025-07-31T20:38:02.534570Z"
    }
   },
   "cell_type": "code",
   "source": [
    "def handle_timed_condition_subprocess(graph, delay_cutoff: timedelta = timedelta(hours=1)):\n",
    "    self_excludes = set()\n",
    "    for source,targets in graph.excludes.items():\n",
    "        if source in targets:\n",
    "            self_excludes.add(source)\n",
    "\n",
    "    for group, events in graph.nestedgroups.items():\n",
    "        if group in self_excludes:\n",
    "            self_excludes.remove(group)\n",
    "            self_excludes = self_excludes.union(events)\n",
    "\n",
    "    source_condition_remapping = {}\n",
    "    for target, sources_dict in graph.timedconditions.items():\n",
    "        for source, timing in list(sources_dict.items()):\n",
    "            if timing < delay_cutoff:\n",
    "                del graph.timedconditions[target][source]\n",
    "            elif source in self_excludes:\n",
    "                if source not in graph.subprocesses:\n",
    "                    condition_subprocess = f'{source}_ne'\n",
    "                    graph.subprocesses[condition_subprocess] = {source}\n",
    "                    source_condition_remapping[source] = condition_subprocess\n",
    "                    graph.events.add(condition_subprocess)\n",
    "                    graph.labels.add(condition_subprocess)\n",
    "                    graph.label_map[condition_subprocess] = condition_subprocess\n",
    "                    graph.marking.included.add(condition_subprocess)\n",
    "\n",
    "                    for group, events in graph.nestedgroups.items():\n",
    "                        if source in events:\n",
    "                            graph.nestedgroups[group].remove(source)\n",
    "                            graph.nestedgroups[group].add(condition_subprocess)\n",
    "\n",
    "    for k,v in list(graph.timedconditions.items()):\n",
    "        if len(v)==0:\n",
    "            del graph.timedconditions[k]\n",
    "\n",
    "    for target, sources in graph.conditions.items():\n",
    "        for source in sources:\n",
    "            if source in source_condition_remapping:\n",
    "                graph.conditions[target].remove(source)\n",
    "                graph.conditions[target].add(source_condition_remapping[source])\n",
    "                the_delay = graph.timedconditions[target][source]\n",
    "                del graph.timedconditions[target][source]\n",
    "                graph.timedconditions[target][source_condition_remapping[source]] = the_delay\n",
    "    return graph"
   ],
   "id": "95e478e6e141eef5",
   "outputs": [],
   "execution_count": 49
  },
  {
   "metadata": {
    "ExecuteTime": {
     "end_time": "2025-07-31T20:39:01.813046Z",
     "start_time": "2025-07-31T20:39:01.791504Z"
    }
   },
   "cell_type": "code",
   "source": "lifecycle_in_event_graph = handle_timed_condition_subprocess(lifecycle_in_event_graph)",
   "id": "c0e7b58386cb6bd8",
   "outputs": [],
   "execution_count": 52
  },
  {
   "metadata": {
    "ExecuteTime": {
     "end_time": "2025-07-31T20:38:04.770278Z",
     "start_time": "2025-07-31T20:38:04.747507Z"
    }
   },
   "cell_type": "code",
   "source": "graph = handle_timed_condition_subprocess(graph)",
   "id": "34254ceb33de5ade",
   "outputs": [],
   "execution_count": 50
  },
  {
   "metadata": {
    "ExecuteTime": {
     "end_time": "2025-07-31T20:59:24.141883Z",
     "start_time": "2025-07-31T20:59:24.120830Z"
    }
   },
   "cell_type": "code",
   "source": [
    "def lifecycle_graph_update(graph,lifecycle_graphs_for_event,subprocess_graph):\n",
    "    events_by_prefix = {\n",
    "        sp_prefix: set([e for e in graph.events if e.startswith(sp_prefix)])\n",
    "        for sp_prefix in ['A', 'W', 'O']\n",
    "    }\n",
    "    # events_by_prefix['O'].remove('O_SENT')\n",
    "    graph.events = graph.events.union(set(['A', 'W', 'O']))\n",
    "    graph.labels = graph.labels.union(set(['A', 'W', 'O']))\n",
    "    graph.label_map['A'] = 'A'\n",
    "    graph.label_map['W'] = 'W'\n",
    "    graph.label_map['O'] = 'O'\n",
    "    graph.conditions = {**graph.conditions, **subprocess_graph.conditions}\n",
    "    graph.timedconditions = {**graph.timedconditions, **subprocess_graph.timedconditions}\n",
    "    graph.marking.included = graph.marking.included.union(set(['A', 'W', 'O']))\n",
    "    graph.subprocesses = {**graph.subprocesses, **events_by_prefix}\n",
    "    for lf_subprocess, lf_graph in lifecycle_graphs_for_event.items():\n",
    "        graph.events.add(lf_subprocess)\n",
    "        graph.labels.add(lf_subprocess)\n",
    "        graph.label_map[lf_subprocess] = lf_subprocess\n",
    "        graph.marking.included.add(lf_subprocess)\n",
    "        graph.subprocesses[lf_subprocess] = set([f\"{lf_subprocess}+{e}\" for e in lf_graph.events])\n",
    "        graph.timedconditions = {**graph.timedconditions, **lf_graph.timedconditions}\n",
    "        graph.conditions = {**graph.conditions, **lf_graph.conditions}\n",
    "        graph.responses = {**graph.responses, **lf_graph.responses}\n",
    "        graph.includes = {**graph.includes, **lf_graph.includes}\n",
    "        graph.excludes = {**graph.excludes, **lf_graph.excludes}\n",
    "    return graph"
   ],
   "id": "894dc1a3ace1a3b7",
   "outputs": [],
   "execution_count": 74
  },
  {
   "metadata": {
    "ExecuteTime": {
     "end_time": "2025-07-31T20:53:07.763277Z",
     "start_time": "2025-07-31T20:53:07.739185Z"
    }
   },
   "cell_type": "code",
   "source": "graph",
   "id": "d97bc6d3344dd17e",
   "outputs": [
    {
     "data": {
      "text/plain": [
       "<super: <class 'DistributedDcrGraph'>, <TimedDcrGraph object>>events: {'W_Nabellen incomplete dossiers', 'W_Nabellen offertes', 'A_ACTIVATED', 'O', 'O_CANCELLED', 'A_FINALIZED', 'O_DECLINED', 'O_SENT', 'O_SENT_BACK', 'Choice2', 'W_Valideren aanvraag', 'W', 'O_CREATED', 'W_Afhandelen leads', 'A_APPROVED', 'A_PARTLYSUBMITTED', 'A_PREACCEPTED', 'A_ACCEPTED', 'A_REGISTERED', 'W_Beoordelen fraude', 'O_SENT_ne', 'W_Completeren aanvraag', 'A_SUBMITTED', 'O_ACCEPTED', 'O_SELECTED', 'W_Wijzigen contractgegevens', 'A_DECLINED', 'A', 'A_CANCELLED', 'Choice1'}\n",
       "marking: {executed: set(), included: {'W_Nabellen incomplete dossiers', 'W_Nabellen offertes', 'A_ACTIVATED', 'O', 'O_CANCELLED', 'A_FINALIZED', 'O_DECLINED', 'O_SENT', 'O_SENT_BACK', 'Choice2', 'W_Valideren aanvraag', 'W', 'O_CREATED', 'W_Afhandelen leads', 'A_APPROVED', 'A_PARTLYSUBMITTED', 'A_PREACCEPTED', 'A_ACCEPTED', 'A_REGISTERED', 'W_Beoordelen fraude', 'O_SENT_ne', 'W_Completeren aanvraag', 'A_SUBMITTED', 'O_ACCEPTED', 'O_SELECTED', 'W_Wijzigen contractgegevens', 'A_DECLINED', 'A', 'A_CANCELLED', 'Choice1'}, pending: set()}\n",
       "labels: {'W_Nabellen incomplete dossiers', 'W_Nabellen offertes', 'A_ACTIVATED', 'O', 'O_CANCELLED', 'O_DECLINED', 'A_FINALIZED', 'O_SENT_BACK', 'O_SENT', 'W_Valideren aanvraag', 'W', 'O_CREATED', 'W_Afhandelen leads', 'A_REGISTERED', 'A_PREACCEPTED', 'A_APPROVED', 'A_PARTLYSUBMITTED', 'A_ACCEPTED', 'W_Beoordelen fraude', 'O_SENT_ne', 'W_Completeren aanvraag', 'A_SUBMITTED', 'W_Wijzigen contractgegevens', 'O_SELECTED', 'O_ACCEPTED', 'A_DECLINED', 'A', 'A_CANCELLED'}\n",
       "conditionsFor: {'W_Nabellen incomplete dossiers': {'W_Valideren aanvraag'}, 'A_ACTIVATED': {'W_Valideren aanvraag'}, 'A_APPROVED': {'W_Valideren aanvraag'}, 'A_REGISTERED': {'W_Valideren aanvraag'}, 'O_ACCEPTED': {'W_Valideren aanvraag'}, 'W_Valideren aanvraag': {'O_SENT_BACK'}, 'O_CANCELLED': {'W_Nabellen offertes', 'O_SENT_ne'}, 'O_DECLINED': {'W_Nabellen offertes', 'O_SENT_ne'}, 'O_SENT_BACK': {'W_Nabellen offertes', 'O_SENT_ne'}, 'W_Wijzigen contractgegevens': {'W_Nabellen offertes', 'O_SENT_ne'}, 'O_SENT': {'O_CREATED'}, 'W_Nabellen offertes': {'O_SELECTED', 'A_FINALIZED'}, 'O_CREATED': {'O_SELECTED', 'A_FINALIZED'}, 'A_FINALIZED': {'A_ACCEPTED', 'W_Afhandelen leads'}, 'O_SELECTED': {'A_ACCEPTED', 'W_Afhandelen leads'}, 'A_ACCEPTED': {'A_PREACCEPTED', 'W_Completeren aanvraag'}, 'W_Afhandelen leads': {'A_PARTLYSUBMITTED'}, 'A_PREACCEPTED': {'A_PARTLYSUBMITTED'}, 'W_Beoordelen fraude': {'A_PARTLYSUBMITTED'}, 'W_Completeren aanvraag': {'A_PARTLYSUBMITTED'}, 'A_DECLINED': {'A_PARTLYSUBMITTED'}, 'A_CANCELLED': {'A_PARTLYSUBMITTED'}, 'A_PARTLYSUBMITTED': {'A_SUBMITTED'}}\n",
       "responseTo: {'A_FINALIZED': {'W_Nabellen offertes', 'O_CREATED', 'W_Completeren aanvraag'}, 'O_SELECTED': {'O_CREATED'}, 'O_SENT_BACK': {'W_Valideren aanvraag'}, 'O_CREATED': {'O_SENT'}, 'A_PREACCEPTED': {'W_Completeren aanvraag'}, 'A_ACCEPTED': {'W_Completeren aanvraag'}, 'A_SUBMITTED': {'A_PARTLYSUBMITTED'}}\n",
       "includesTo: {'O_CREATED': {'O_SENT'}}\n",
       "excludesTo: {'W_Nabellen incomplete dossiers': {'W_Nabellen offertes', 'W_Beoordelen fraude'}, 'A_ACTIVATED': {'O_CREATED', 'W_Beoordelen fraude', 'A_ACTIVATED', 'O_CANCELLED', 'O_SELECTED', 'A_DECLINED', 'O_DECLINED', 'A_CANCELLED', 'O_SENT_BACK'}, 'O_CANCELLED': {'W_Completeren aanvraag'}, 'A_FINALIZED': {'A_FINALIZED'}, 'O_DECLINED': {'A_APPROVED', 'A_ACTIVATED', 'W_Completeren aanvraag', 'O_ACCEPTED', 'W_Wijzigen contractgegevens'}, 'O_SENT': {'O_SENT'}, 'O_SENT_BACK': {'W_Completeren aanvraag'}, 'A_APPROVED': {'W_Beoordelen fraude', 'O_CANCELLED', 'O_DECLINED'}, 'A_PARTLYSUBMITTED': {'A_PARTLYSUBMITTED'}, 'A_PREACCEPTED': {'A_PREACCEPTED'}, 'A_ACCEPTED': {'A_ACCEPTED', 'W_Afhandelen leads'}, 'A_REGISTERED': {'A_DECLINED'}, 'W_Beoordelen fraude': {'W_Wijzigen contractgegevens'}, 'A_SUBMITTED': {'A_SUBMITTED'}, 'O_ACCEPTED': {'O_CREATED', 'W_Beoordelen fraude', 'O_ACCEPTED', 'O_SELECTED', 'O_CANCELLED', 'A_DECLINED', 'O_DECLINED', 'A_CANCELLED', 'O_SENT_BACK'}, 'W_Wijzigen contractgegevens': {'W_Beoordelen fraude', 'W_Completeren aanvraag', 'A_DECLINED', 'O_DECLINED', 'A_CANCELLED'}, 'A_DECLINED': {'A_REGISTERED', 'A_ACTIVATED', 'O_CANCELLED', 'O_ACCEPTED', 'W_Wijzigen contractgegevens'}, 'A_CANCELLED': {'W_Afhandelen leads', 'W_Beoordelen fraude', 'A_ACTIVATED', 'O_ACCEPTED', 'W_Wijzigen contractgegevens', 'Choice2'}, 'Choice1': {'O_SELECTED', 'O_CREATED', 'O_SENT_BACK', 'Choice1'}, 'Choice2': {'O_CREATED', 'W_Beoordelen fraude', 'O_CANCELLED', 'O_SELECTED', 'A_CANCELLED', 'O_SENT_BACK', 'Choice2'}}\n",
       "labelMap: {'W_Nabellen incomplete dossiers': 'W_Nabellen incomplete dossiers', 'W_Nabellen offertes': 'W_Nabellen offertes', 'A_ACTIVATED': 'A_ACTIVATED', 'O_CANCELLED': 'O_CANCELLED', 'A_FINALIZED': 'A_FINALIZED', 'O_DECLINED': 'O_DECLINED', 'O_SENT': 'O_SENT', 'O_SENT_BACK': 'O_SENT_BACK', 'W_Valideren aanvraag': 'W_Valideren aanvraag', 'O_CREATED': 'O_CREATED', 'W_Afhandelen leads': 'W_Afhandelen leads', 'A_APPROVED': 'A_APPROVED', 'A_PARTLYSUBMITTED': 'A_PARTLYSUBMITTED', 'A_PREACCEPTED': 'A_PREACCEPTED', 'A_ACCEPTED': 'A_ACCEPTED', 'A_REGISTERED': 'A_REGISTERED', 'W_Beoordelen fraude': 'W_Beoordelen fraude', 'W_Completeren aanvraag': 'W_Completeren aanvraag', 'A_SUBMITTED': 'A_SUBMITTED', 'O_ACCEPTED': 'O_ACCEPTED', 'O_SELECTED': 'O_SELECTED', 'W_Wijzigen contractgegevens': 'W_Wijzigen contractgegevens', 'A_DECLINED': 'A_DECLINED', 'A_CANCELLED': 'A_CANCELLED', 'O_SENT_ne': 'O_SENT_ne', 'A': 'A', 'W': 'W', 'O': 'O'}\n",
       "principals: set()\n",
       "roles: set()\n",
       "roleAssignments: {}\n",
       "principalsAssignments: {}\n",
       "milestonesFor: {}\n",
       "noResponseTo: {}\n",
       "nestedgroups: {'Choice1': {'A_DECLINED', 'A_CANCELLED', 'A_APPROVED'}, 'Choice2': {'O_DECLINED', 'A_REGISTERED'}}\n",
       "subprocesses: {'O_SENT_ne': {'O_SENT'}, 'A': {'A_APPROVED', 'A_REGISTERED', 'A_PARTLYSUBMITTED', 'A_PREACCEPTED', 'A_ACCEPTED', 'A_ACTIVATED', 'A_SUBMITTED', 'A_DECLINED', 'A_FINALIZED', 'A_CANCELLED'}, 'W': {'W_Valideren aanvraag', 'W_Nabellen incomplete dossiers', 'W_Afhandelen leads', 'W_Nabellen offertes', 'W_Beoordelen fraude', 'W_Completeren aanvraag', 'W_Wijzigen contractgegevens'}, 'O': {'O_CREATED', 'O_SENT_ne', 'O_CANCELLED', 'O_ACCEPTED', 'O_SELECTED', 'O_DECLINED', 'O_SENT_BACK'}, 'W_Nabellen offertes': {'W_Nabellen offertes+COMPLETE', 'W_Nabellen offertes+SCHEDULE', 'W_Nabellen offertes+START'}, 'W_Completeren aanvraag': {'W_Completeren aanvraag+SCHEDULE', 'W_Completeren aanvraag+COMPLETE', 'W_Completeren aanvraag+START'}, 'W_Nabellen incomplete dossiers': {'W_Nabellen incomplete dossiers+COMPLETE', 'W_Nabellen incomplete dossiers+SCHEDULE', 'W_Nabellen incomplete dossiers+START'}, 'W_Valideren aanvraag': {'W_Valideren aanvraag+COMPLETE', 'W_Valideren aanvraag+START', 'W_Valideren aanvraag+SCHEDULE'}, 'W_Afhandelen leads': {'W_Afhandelen leads+COMPLETE', 'W_Afhandelen leads+SCHEDULE', 'W_Afhandelen leads+START'}, 'W_Beoordelen fraude': {'W_Beoordelen fraude+COMPLETE', 'W_Beoordelen fraude+SCHEDULE', 'W_Beoordelen fraude+START'}}\n",
       "map: {'A_DECLINED': 'Choice1', 'A_CANCELLED': 'Choice1', 'A_APPROVED': 'Choice1', 'O_DECLINED': 'Choice2', 'A_REGISTERED': 'Choice2'}\n",
       "marking: {executed: set(), included: {'W_Nabellen incomplete dossiers', 'W_Nabellen offertes', 'A_ACTIVATED', 'O_CANCELLED', 'A_FINALIZED', 'O_DECLINED', 'O_SENT', 'O_SENT_BACK', 'Choice2', 'W_Valideren aanvraag', 'O_CREATED', 'W_Afhandelen leads', 'A_APPROVED', 'A_PARTLYSUBMITTED', 'A_PREACCEPTED', 'A_ACCEPTED', 'A_REGISTERED', 'W_Beoordelen fraude', 'O_SENT_ne', 'W_Completeren aanvraag', 'A_SUBMITTED', 'O_ACCEPTED', 'O_SELECTED', 'W_Wijzigen contractgegevens', 'A_DECLINED', 'A_CANCELLED', 'Choice1'}, pending: set()}\n",
       "timedconditions: {'W_Wijzigen contractgegevens': {'W_Nabellen offertes': Timedelta('0 days 22:38:26.838000'), 'O_SENT_ne': Timedelta('0 days 22:38:29.261000')}}\n",
       "timedresponses: {'A_ACCEPTED': {'W_Completeren aanvraag': Timedelta('0 days 01:37:45.260000')}, 'A_FINALIZED': {'W_Completeren aanvraag': Timedelta('0 days 00:03:58.933000'), 'W_Nabellen offertes': Timedelta('0 days 00:03:57.107000'), 'O_CREATED': Timedelta('0 days 00:03:56.756000')}, 'A_PREACCEPTED': {'W_Completeren aanvraag': Timedelta('0 days 00:00:49.408000')}, 'O_SELECTED': {'O_CREATED': Timedelta('0 days 00:03:56.756000')}, 'A_SUBMITTED': {'A_PARTLYSUBMITTED': Timedelta('0 days 00:00:53.039000')}, 'O_CREATED': {'O_SENT': Timedelta('0 days 00:00:02.618000')}, 'O_SENT_BACK': {'W_Valideren aanvraag': Timedelta('0 days 00:01:15.147000')}}"
      ]
     },
     "execution_count": 68,
     "metadata": {},
     "output_type": "execute_result"
    }
   ],
   "execution_count": 68
  },
  {
   "metadata": {
    "ExecuteTime": {
     "end_time": "2025-07-31T20:59:27.002024Z",
     "start_time": "2025-07-31T20:59:26.977312Z"
    }
   },
   "cell_type": "code",
   "source": "lifecycle_in_event_graph = lifecycle_graph_update(lifecycle_in_event_graph,lifecycle_graphs_for_event,subprocess_graph)",
   "id": "a358a795d6423081",
   "outputs": [],
   "execution_count": 75
  },
  {
   "metadata": {
    "ExecuteTime": {
     "end_time": "2025-07-31T20:59:32.321524Z",
     "start_time": "2025-07-31T20:59:32.290518Z"
    }
   },
   "cell_type": "code",
   "source": [
    "from pm4py.objects.dcr.exporter import exporter as dcr_exporter\n",
    "dcr_exporter.apply(lifecycle_in_event_graph, '/home/vco/Projects/delay-deadline-miner/models/lifecycle_in_event_graph2.xml')"
   ],
   "id": "89db4c89111846aa",
   "outputs": [],
   "execution_count": 76
  },
  {
   "metadata": {},
   "cell_type": "markdown",
   "source": "# LLM labels my subprocesses",
   "id": "ad1da496c9df4b88"
  },
  {
   "metadata": {
    "ExecuteTime": {
     "end_time": "2025-08-01T10:28:42.737518Z",
     "start_time": "2025-08-01T10:28:42.719132Z"
    }
   },
   "cell_type": "code",
   "source": [
    "preceded_list = []\n",
    "succeeded_list = []\n",
    "subprocess_activities_list = []\n",
    "no_of_activities = len(subprocess_activities_list)\n",
    "preceded = f\"\"\" They are preceded by {preceded_list}.\"\"\" if len(preceded_list) > 0 else \"\"\n",
    "succeeded = f\"\"\" They are succeeded by {succeeded_list}.\"\"\" if len(succeeded_list) > 0 else \"\"\n",
    "json_answer = {\n",
    "  \"label\": \"\"\n",
    "}\n",
    "prompt = f\"\"\"\n",
    "In a process model I have {no_of_activities} activities labeled: {subprocess_activities_list}.{preceded}{succeeded} As much as possible try to provide a single word label.\n",
    "Create a label for the subprocess which contains the {no_of_activities} activities. ONLY WRITE THE ANSWER!!! ALWAYS RETURN THE ANSWER IN THIS JSON OBJECT:\n",
    "{json_answer}\n",
    "\"\"\""
   ],
   "id": "9ac4ef1b612dc69c",
   "outputs": [],
   "execution_count": 8
  },
  {
   "metadata": {},
   "cell_type": "code",
   "outputs": [],
   "execution_count": null,
   "source": "",
   "id": "e8a1bd8336248492"
  },
  {
   "metadata": {},
   "cell_type": "markdown",
   "source": "# Old Code",
   "id": "51635a33f948a2fb"
  },
  {
   "metadata": {
    "ExecuteTime": {
     "end_time": "2025-07-30T13:48:15.153202Z",
     "start_time": "2025-07-30T13:48:15.127982Z"
    }
   },
   "cell_type": "code",
   "outputs": [],
   "execution_count": 3,
   "source": [
    "# from copy import deepcopy\n",
    "#\n",
    "# import pandas as pd\n",
    "# from typing import Optional, Any, Union, Dict\n",
    "# import pm4py\n",
    "# from pm4py.objects.dcr.obj import DcrGraph\n",
    "# from pm4py.util import exec_utils, constants, xes_constants\n",
    "# from pm4py.objects.dcr.timed.obj import TimedDcrGraph\n",
    "# from pm4py.objects.log.obj import EventLog\n",
    "#\n",
    "# class TimeMining:\n",
    "#     \"\"\"\n",
    "#     The TimeMining provides a simple algorithm to mine timing data of an event log for DCR graphs\n",
    "#\n",
    "#     After initialization, user can call mine(log, G, parameters), which will return a DCR Graph with time.\n",
    "#\n",
    "#     Attributes\n",
    "#     ----------\n",
    "#     graph: Dict[str,Any]\n",
    "#\n",
    "#     Methods\n",
    "#     -------\n",
    "#     mine(log, G, parameters)\n",
    "#\n",
    "#     Notes\n",
    "#     ------\n",
    "#     *\n",
    "#     \"\"\"\n",
    "#     def __init__(self):\n",
    "#         self.idx_list = []\n",
    "#         self.timing_dict = {\"conditionsForDelays\": {}, \"responseToDeadlines\": {}}\n",
    "#\n",
    "#\n",
    "#     def get_log_with_pair(self, event_log, e1, e2):\n",
    "#         '''\n",
    "#         when selecting the case ids (cids) here there is a difference when taking\n",
    "#         strictly less than < and strictly less than or equal <=\n",
    "#         Less than or equal <= allows for instant executions (so a time of 0 between events e1 and e2)\n",
    "#         '''\n",
    "#         first_e1 = event_log[event_log['concept:name'] == e1].groupby('case:concept:name')[\n",
    "#             ['case:concept:name', 'time:timestamp']].first().reset_index(drop=True)\n",
    "#         subset_is_in = first_e1.merge(event_log, on='case:concept:name', how='inner', suffixes=('_e1', ''))\n",
    "#         cids = subset_is_in[\n",
    "#             ((subset_is_in['time:timestamp_e1'] <= subset_is_in['time:timestamp']) & (subset_is_in['concept:name'] == e2))][\n",
    "#             'case:concept:name'].unique()\n",
    "#         return event_log[event_log['case:concept:name'].isin(cids)].copy(deep=True)\n",
    "#\n",
    "#\n",
    "#     def get_delta_between_events(self, filtered_df, event_pair, rule=None):\n",
    "#         e1 = event_pair[0]\n",
    "#         e2 = event_pair[1]\n",
    "#         filtered_df = filtered_df[['case:concept:name', 'concept:name', 'time:timestamp']]\n",
    "#         filtered_df = filtered_df[filtered_df['concept:name'].isin(event_pair)]\n",
    "#         filtered_df['time:timestamp'] = pd.to_datetime(filtered_df['time:timestamp'], utc=True)\n",
    "#         deltas = []\n",
    "#         deltas_map = {}\n",
    "#         # for idx, g in filtered_df[filtered_df['concept:name'].isin([e1, e2])].groupby('case:concept:name'):\n",
    "#         for idx, g in filtered_df.groupby('case:concept:name'):\n",
    "#             g = g.sort_values(by='time:timestamp').reset_index(drop=True)\n",
    "#             g['time:timestamp:to'] = g['time:timestamp'].shift(-1)\n",
    "#             g['concept:name:to'] = g['concept:name'].shift(-1)\n",
    "#             temp_df = deepcopy(g)\n",
    "#             res = []\n",
    "#             if rule == 'RESPONSE':\n",
    "#                 g_e1 = deepcopy(g[g['concept:name'] == e1])\n",
    "#                 if len(g_e1) >= 1:\n",
    "#                     g_e1 = g_e1.reset_index(drop=False)\n",
    "#                     g_e1['index_below'] = g_e1['index'].shift(-1)\n",
    "#                     g_e1 = g_e1[((g_e1['index_below'] - g_e1['index']) == 1)]\n",
    "#                     g_e1['delta'] = g_e1['time:timestamp:to'] - g_e1['time:timestamp']\n",
    "#                     res.extend(g_e1['delta'])\n",
    "#                 temp_df = temp_df[\n",
    "#                     (temp_df['concept:name'] == e1) & (temp_df['concept:name:to'] == e2)]\n",
    "#                 temp_df['delta'] = temp_df['time:timestamp:to'] - temp_df['time:timestamp']\n",
    "#                 res.extend(temp_df['delta'])\n",
    "#             elif rule == 'CONDITION':\n",
    "#                 temp_df = temp_df[\n",
    "#                     (temp_df['concept:name'] == e1) & (temp_df['concept:name:to'] == e2)]\n",
    "#                 temp_df['delta'] = temp_df['time:timestamp:to'] - temp_df['time:timestamp']\n",
    "#                 res.extend(temp_df['delta'])\n",
    "#             else:\n",
    "#                 temp_df = temp_df[\n",
    "#                     (temp_df['concept:name'] == e1) & (temp_df['concept:name:to'] == e2)]\n",
    "#                 temp_df['delta'] = temp_df['time:timestamp:to'] - temp_df['time:timestamp']\n",
    "#                 res.extend(temp_df['delta'])\n",
    "#             deltas.extend(res)\n",
    "#             for i in set(res):\n",
    "#                 if i not in deltas_map:\n",
    "#                     deltas_map[i] = set()\n",
    "#                 deltas_map[i].add(idx)\n",
    "#         return deltas, deltas_map\n",
    "#\n",
    "#\n",
    "#     def get_filter_map(self, log: Union[pd.DataFrame, EventLog], graph):\n",
    "#         # perform mining on event logs\n",
    "#         if not isinstance(log, pd.DataFrame):\n",
    "#             log = pm4py.convert_to_dataframe(log)\n",
    "#         activities = log['case:concept:name'].unique()\n",
    "#         print(log.index)\n",
    "#\n",
    "#         timing_input_dict = {'CONDITION': set(), 'RESPONSE': set()}\n",
    "#         for e1 in graph.conditions.keys():\n",
    "#             for e2 in graph.conditions[e1]:\n",
    "#                 timing_input_dict['CONDITION'].add((e2, e1))\n",
    "#\n",
    "#         for e1 in graph.responses.keys():\n",
    "#             for e2 in graph.responses[e1]:\n",
    "#                 timing_input_dict['RESPONSE'].add((e1, e2))\n",
    "#\n",
    "#         res_filter_map = {}\n",
    "#         timings = {}\n",
    "#         for rule, event_pairs in timing_input_dict.items():\n",
    "#             for event_pair in event_pairs:\n",
    "#                 if event_pair[0] in activities and event_pair[1] in activities:\n",
    "#                     data, filter_map = self.get_timings_one_relation(log,event_pair[0], event_pair[1], rule)\n",
    "#                     timings[(rule, event_pair[0], event_pair[1])] = data\n",
    "#                     res_filter_map[(rule, event_pair[0], event_pair[1])] = filter_map\n",
    "#\n",
    "#         return timings, res_filter_map\n",
    "#\n",
    "#     def get_timings_one_relation(self,log, e1, e2, rule):\n",
    "#         filtered_df = self.get_log_with_pair(log, e1, e2)\n",
    "#         data, filter_map = self.get_delta_between_events(filtered_df, (e1,e2), rule)\n",
    "#         return data, filter_map"
   ],
   "id": "d9a611e8710a920a"
  },
  {
   "metadata": {
    "ExecuteTime": {
     "end_time": "2025-07-30T13:48:15.755712Z",
     "start_time": "2025-07-30T13:48:15.735148Z"
    }
   },
   "cell_type": "code",
   "source": [
    "# tm = TimeMining()\n",
    "# tm.get_filter_map(log,graph)"
   ],
   "id": "f346f8fdfef85084",
   "outputs": [
    {
     "name": "stdout",
     "output_type": "stream",
     "text": [
      "RangeIndex(start=0, stop=201, step=1)\n"
     ]
    },
    {
     "data": {
      "text/plain": [
       "({}, {})"
      ]
     },
     "execution_count": 7,
     "metadata": {},
     "output_type": "execute_result"
    }
   ],
   "execution_count": 7
  }
 ],
 "metadata": {
  "kernelspec": {
   "display_name": "Python 3",
   "language": "python",
   "name": "python3"
  },
  "language_info": {
   "codemirror_mode": {
    "name": "ipython",
    "version": 2
   },
   "file_extension": ".py",
   "mimetype": "text/x-python",
   "name": "python",
   "nbconvert_exporter": "python",
   "pygments_lexer": "ipython2",
   "version": "2.7.6"
  }
 },
 "nbformat": 4,
 "nbformat_minor": 5
}
